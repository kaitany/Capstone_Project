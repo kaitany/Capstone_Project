{
 "cells": [
  {
   "cell_type": "markdown",
   "metadata": {},
   "source": [
    "# BUSINESS UNDERSTANDING\n",
    "\n",
    "There is need for company's to understand their consumers behaviours, tastes and preferences in order to have a competitive edge over competitors. Churn analysis determines likelihood of customers ceasing to consume products or services from a company. Proactive and data-driven businesses are able to leverage on analytics to analyse customer behaviours, strategize customer retention activities, and effectively prioritize their resources to attain business success.  This project's goal is to  develop a machine learning model for a telecommunications company that predicts likelihood of customers churning.(i.e becoming inactive and not making any transactions for 90 days). This solution will help the telecom commpany to better serve their customers by understanding which customers are at risk of leaving."
   ]
  },
  {
   "cell_type": "markdown",
   "metadata": {},
   "source": [
    "# DATA UNDERSTANDING\n",
    "\n",
    "The churn dataset includes 19 variables including 15 numeric variables and 04 categorical variables.\n",
    "\n",
    "**user_id**: Unique identifier of a client\n",
    "\n",
    "**REGION**: The location of each client\n",
    "\n",
    "**TENURE**: duration in the network\n",
    "\n",
    "**MONTANT**: top-up amount\n",
    "\n",
    "**FREQUENCE_RECH**: number of times the customer refilled\n",
    "\n",
    "**REVENUE**: monthly income of each client\n",
    "\n",
    "**ARPU_SEGMENT**: income over 90 days / 3\n",
    "\n",
    "**FREQUENCE**: number of times the client has made an income\n",
    "\n",
    "**DATA_VOLUME**: number of connections\n",
    "\n",
    "**ON_NET**: inter expresso call\n",
    "\n",
    "**ORANGE**: call to orange\n",
    "\n",
    "**TIGO**: call to Tigo\n",
    "\n",
    "**ZONE1**: call to zones1\n",
    "\n",
    "**ZONE2**: call to zones2\n",
    "\n",
    "**MRG**: a client who is going\n",
    "\n",
    "**REGULARITY**: number of times the client is active for 90 days\n",
    "\n",
    "**TOP_PACK**: the most active packs\n",
    "\n",
    "**FREQ_TOP_PACK**: number of times the client has activated the top pack packages\n",
    "\n",
    "**CHURN**: variable to predict - Target"
   ]
  },
  {
   "cell_type": "markdown",
   "metadata": {},
   "source": [
    "### Business questions\n",
    "\n",
    "1. What is the relationship between tenure and churn? Are customers who have stayed longer with the telecom company most likely to churn?\n",
    "\n",
    "2. What is the relationship between Region and Churn? Are there regions with higher churn rates than others? \n",
    "\n",
    "3. Deos regularity and frequence have a correlation to churn? Are customers who are likely to churn have a lower frequence and regularity number?"
   ]
  },
  {
   "cell_type": "code",
   "execution_count": 1,
   "metadata": {},
   "outputs": [],
   "source": [
    "#import libraries\n",
    "\n",
    "import pandas as pd\n",
    "import numpy as np\n",
    "import seaborn as sns\n",
    "import matplotlib.pyplot as plt\n",
    "from pylab import rcParams\n",
    "sns.set_style('darkgrid')\n",
    "rcParams['figure.figsize'] = 8,8\n",
    "\n",
    "%matplotlib inline\n",
    "\n",
    "import os\n",
    "from sklearn.model_selection import train_test_split\n",
    "from imblearn.over_sampling import SMOTE  \n",
    "from sklearn.preprocessing import LabelEncoder\n",
    "from sklearn.preprocessing import StandardScaler, OrdinalEncoder\n",
    "from sklearn.compose import ColumnTransformer\n",
    "from sklearn.preprocessing import FunctionTransformer\n",
    "from sklearn.pipeline import Pipeline\n",
    "from sklearn.metrics import classification_report, confusion_matrix\n",
    "from sklearn.model_selection import RandomizedSearchCV, KFold\n",
    "#Models\n",
    "from sklearn.svm import SVC\n",
    "from sklearn.naive_bayes import GaussianNB\n",
    "from sklearn.tree import DecisionTreeClassifier\n",
    "from sklearn.ensemble import RandomForestClassifier, GradientBoostingClassifier, AdaBoostClassifier\n",
    "from sklearn.linear_model import LogisticRegression\n",
    "from scipy import stats\n",
    "\n",
    "#metrics\n",
    "from sklearn.metrics import accuracy_score, f1_score, precision_score, recall_score, roc_auc_score\n",
    "\n",
    "import pickle\n",
    "\n",
    "import warnings\n",
    "warnings.filterwarnings(\"ignore\")"
   ]
  },
  {
   "cell_type": "code",
   "execution_count": 2,
   "metadata": {},
   "outputs": [],
   "source": [
    "#load train & test datasets\n",
    "\n",
    "train = pd.read_csv(r\"..\\datasets\\Train.csv\")\n",
    "\n",
    "test = pd.read_csv(r\"..\\datasets\\Test.csv\")\n",
    "\n",
    "#submission = pd.read_csv('SampleSubmission.csv') (do submission.head() & .shape())"
   ]
  },
  {
   "cell_type": "code",
   "execution_count": 3,
   "metadata": {},
   "outputs": [
    {
     "data": {
      "text/html": [
       "<div>\n",
       "<style scoped>\n",
       "    .dataframe tbody tr th:only-of-type {\n",
       "        vertical-align: middle;\n",
       "    }\n",
       "\n",
       "    .dataframe tbody tr th {\n",
       "        vertical-align: top;\n",
       "    }\n",
       "\n",
       "    .dataframe thead th {\n",
       "        text-align: right;\n",
       "    }\n",
       "</style>\n",
       "<table border=\"1\" class=\"dataframe\">\n",
       "  <thead>\n",
       "    <tr style=\"text-align: right;\">\n",
       "      <th></th>\n",
       "      <th>user_id</th>\n",
       "      <th>REGION</th>\n",
       "      <th>TENURE</th>\n",
       "      <th>MONTANT</th>\n",
       "      <th>FREQUENCE_RECH</th>\n",
       "      <th>REVENUE</th>\n",
       "      <th>ARPU_SEGMENT</th>\n",
       "      <th>FREQUENCE</th>\n",
       "      <th>DATA_VOLUME</th>\n",
       "      <th>ON_NET</th>\n",
       "      <th>ORANGE</th>\n",
       "      <th>TIGO</th>\n",
       "      <th>ZONE1</th>\n",
       "      <th>ZONE2</th>\n",
       "      <th>MRG</th>\n",
       "      <th>REGULARITY</th>\n",
       "      <th>TOP_PACK</th>\n",
       "      <th>FREQ_TOP_PACK</th>\n",
       "      <th>CHURN</th>\n",
       "    </tr>\n",
       "  </thead>\n",
       "  <tbody>\n",
       "    <tr>\n",
       "      <th>0</th>\n",
       "      <td>7ee9e11e342e27c70455960acc80d3f91c1286d1</td>\n",
       "      <td>DAKAR</td>\n",
       "      <td>K &gt; 24 month</td>\n",
       "      <td>20000.0</td>\n",
       "      <td>47.0</td>\n",
       "      <td>21602.0</td>\n",
       "      <td>7201.0</td>\n",
       "      <td>52.0</td>\n",
       "      <td>8835.0</td>\n",
       "      <td>3391.0</td>\n",
       "      <td>396.0</td>\n",
       "      <td>185.0</td>\n",
       "      <td>NaN</td>\n",
       "      <td>NaN</td>\n",
       "      <td>NO</td>\n",
       "      <td>62</td>\n",
       "      <td>On net 200F=Unlimited _call24H</td>\n",
       "      <td>30.0</td>\n",
       "      <td>0</td>\n",
       "    </tr>\n",
       "    <tr>\n",
       "      <th>1</th>\n",
       "      <td>50443f42bdc92b10388fc56e520e4421a5fa655c</td>\n",
       "      <td>NaN</td>\n",
       "      <td>K &gt; 24 month</td>\n",
       "      <td>NaN</td>\n",
       "      <td>NaN</td>\n",
       "      <td>NaN</td>\n",
       "      <td>NaN</td>\n",
       "      <td>NaN</td>\n",
       "      <td>NaN</td>\n",
       "      <td>NaN</td>\n",
       "      <td>NaN</td>\n",
       "      <td>NaN</td>\n",
       "      <td>NaN</td>\n",
       "      <td>NaN</td>\n",
       "      <td>NO</td>\n",
       "      <td>3</td>\n",
       "      <td>NaN</td>\n",
       "      <td>NaN</td>\n",
       "      <td>0</td>\n",
       "    </tr>\n",
       "    <tr>\n",
       "      <th>2</th>\n",
       "      <td>da90b5c1a9b204c186079f89969aa01cb03c91b2</td>\n",
       "      <td>NaN</td>\n",
       "      <td>K &gt; 24 month</td>\n",
       "      <td>NaN</td>\n",
       "      <td>NaN</td>\n",
       "      <td>NaN</td>\n",
       "      <td>NaN</td>\n",
       "      <td>NaN</td>\n",
       "      <td>NaN</td>\n",
       "      <td>NaN</td>\n",
       "      <td>NaN</td>\n",
       "      <td>NaN</td>\n",
       "      <td>NaN</td>\n",
       "      <td>NaN</td>\n",
       "      <td>NO</td>\n",
       "      <td>1</td>\n",
       "      <td>NaN</td>\n",
       "      <td>NaN</td>\n",
       "      <td>0</td>\n",
       "    </tr>\n",
       "    <tr>\n",
       "      <th>3</th>\n",
       "      <td>364ec1b424cdc64c25441a444a16930289a0051e</td>\n",
       "      <td>SAINT-LOUIS</td>\n",
       "      <td>K &gt; 24 month</td>\n",
       "      <td>7900.0</td>\n",
       "      <td>19.0</td>\n",
       "      <td>7896.0</td>\n",
       "      <td>2632.0</td>\n",
       "      <td>25.0</td>\n",
       "      <td>9385.0</td>\n",
       "      <td>27.0</td>\n",
       "      <td>46.0</td>\n",
       "      <td>20.0</td>\n",
       "      <td>NaN</td>\n",
       "      <td>2.0</td>\n",
       "      <td>NO</td>\n",
       "      <td>61</td>\n",
       "      <td>Data:490F=1GB,7d</td>\n",
       "      <td>7.0</td>\n",
       "      <td>0</td>\n",
       "    </tr>\n",
       "    <tr>\n",
       "      <th>4</th>\n",
       "      <td>d5a5247005bc6d41d3d99f4ef312ebb5f640f2cb</td>\n",
       "      <td>DAKAR</td>\n",
       "      <td>K &gt; 24 month</td>\n",
       "      <td>12350.0</td>\n",
       "      <td>21.0</td>\n",
       "      <td>12351.0</td>\n",
       "      <td>4117.0</td>\n",
       "      <td>29.0</td>\n",
       "      <td>9360.0</td>\n",
       "      <td>66.0</td>\n",
       "      <td>102.0</td>\n",
       "      <td>34.0</td>\n",
       "      <td>NaN</td>\n",
       "      <td>NaN</td>\n",
       "      <td>NO</td>\n",
       "      <td>56</td>\n",
       "      <td>All-net 500F=2000F;5d</td>\n",
       "      <td>11.0</td>\n",
       "      <td>0</td>\n",
       "    </tr>\n",
       "  </tbody>\n",
       "</table>\n",
       "</div>"
      ],
      "text/plain": [
       "                                    user_id       REGION        TENURE  \\\n",
       "0  7ee9e11e342e27c70455960acc80d3f91c1286d1        DAKAR  K > 24 month   \n",
       "1  50443f42bdc92b10388fc56e520e4421a5fa655c          NaN  K > 24 month   \n",
       "2  da90b5c1a9b204c186079f89969aa01cb03c91b2          NaN  K > 24 month   \n",
       "3  364ec1b424cdc64c25441a444a16930289a0051e  SAINT-LOUIS  K > 24 month   \n",
       "4  d5a5247005bc6d41d3d99f4ef312ebb5f640f2cb        DAKAR  K > 24 month   \n",
       "\n",
       "   MONTANT  FREQUENCE_RECH  REVENUE  ARPU_SEGMENT  FREQUENCE  DATA_VOLUME  \\\n",
       "0  20000.0            47.0  21602.0        7201.0       52.0       8835.0   \n",
       "1      NaN             NaN      NaN           NaN        NaN          NaN   \n",
       "2      NaN             NaN      NaN           NaN        NaN          NaN   \n",
       "3   7900.0            19.0   7896.0        2632.0       25.0       9385.0   \n",
       "4  12350.0            21.0  12351.0        4117.0       29.0       9360.0   \n",
       "\n",
       "   ON_NET  ORANGE   TIGO  ZONE1  ZONE2 MRG  REGULARITY  \\\n",
       "0  3391.0   396.0  185.0    NaN    NaN  NO          62   \n",
       "1     NaN     NaN    NaN    NaN    NaN  NO           3   \n",
       "2     NaN     NaN    NaN    NaN    NaN  NO           1   \n",
       "3    27.0    46.0   20.0    NaN    2.0  NO          61   \n",
       "4    66.0   102.0   34.0    NaN    NaN  NO          56   \n",
       "\n",
       "                         TOP_PACK  FREQ_TOP_PACK  CHURN  \n",
       "0  On net 200F=Unlimited _call24H           30.0      0  \n",
       "1                             NaN            NaN      0  \n",
       "2                             NaN            NaN      0  \n",
       "3                Data:490F=1GB,7d            7.0      0  \n",
       "4           All-net 500F=2000F;5d           11.0      0  "
      ]
     },
     "execution_count": 3,
     "metadata": {},
     "output_type": "execute_result"
    }
   ],
   "source": [
    "#Preview first five rows of train dataset\n",
    "train.head(5)"
   ]
  },
  {
   "cell_type": "code",
   "execution_count": 5,
   "metadata": {},
   "outputs": [
    {
     "data": {
      "text/html": [
       "<div>\n",
       "<style scoped>\n",
       "    .dataframe tbody tr th:only-of-type {\n",
       "        vertical-align: middle;\n",
       "    }\n",
       "\n",
       "    .dataframe tbody tr th {\n",
       "        vertical-align: top;\n",
       "    }\n",
       "\n",
       "    .dataframe thead th {\n",
       "        text-align: right;\n",
       "    }\n",
       "</style>\n",
       "<table border=\"1\" class=\"dataframe\">\n",
       "  <thead>\n",
       "    <tr style=\"text-align: right;\">\n",
       "      <th></th>\n",
       "      <th>user_id</th>\n",
       "      <th>REGION</th>\n",
       "      <th>TENURE</th>\n",
       "      <th>MONTANT</th>\n",
       "      <th>FREQUENCE_RECH</th>\n",
       "      <th>REVENUE</th>\n",
       "      <th>ARPU_SEGMENT</th>\n",
       "      <th>FREQUENCE</th>\n",
       "      <th>DATA_VOLUME</th>\n",
       "      <th>ON_NET</th>\n",
       "      <th>ORANGE</th>\n",
       "      <th>TIGO</th>\n",
       "      <th>ZONE1</th>\n",
       "      <th>ZONE2</th>\n",
       "      <th>MRG</th>\n",
       "      <th>REGULARITY</th>\n",
       "      <th>TOP_PACK</th>\n",
       "      <th>FREQ_TOP_PACK</th>\n",
       "      <th>CHURN</th>\n",
       "    </tr>\n",
       "  </thead>\n",
       "  <tbody>\n",
       "    <tr>\n",
       "      <th>1077019</th>\n",
       "      <td>56e22fe3312a48cf860b043a021dab275383a20a</td>\n",
       "      <td>NaN</td>\n",
       "      <td>K &gt; 24 month</td>\n",
       "      <td>NaN</td>\n",
       "      <td>NaN</td>\n",
       "      <td>NaN</td>\n",
       "      <td>NaN</td>\n",
       "      <td>NaN</td>\n",
       "      <td>NaN</td>\n",
       "      <td>NaN</td>\n",
       "      <td>NaN</td>\n",
       "      <td>NaN</td>\n",
       "      <td>NaN</td>\n",
       "      <td>NaN</td>\n",
       "      <td>NO</td>\n",
       "      <td>16</td>\n",
       "      <td>NaN</td>\n",
       "      <td>NaN</td>\n",
       "      <td>0</td>\n",
       "    </tr>\n",
       "    <tr>\n",
       "      <th>1077020</th>\n",
       "      <td>587b72930e4d36b3fb94a18c3ef65c2079460eee</td>\n",
       "      <td>TAMBACOUNDA</td>\n",
       "      <td>K &gt; 24 month</td>\n",
       "      <td>2500.0</td>\n",
       "      <td>5.0</td>\n",
       "      <td>2500.0</td>\n",
       "      <td>833.0</td>\n",
       "      <td>5.0</td>\n",
       "      <td>0.0</td>\n",
       "      <td>15.0</td>\n",
       "      <td>77.0</td>\n",
       "      <td>NaN</td>\n",
       "      <td>NaN</td>\n",
       "      <td>NaN</td>\n",
       "      <td>NO</td>\n",
       "      <td>34</td>\n",
       "      <td>All-net 500F=2000F;5d</td>\n",
       "      <td>2.0</td>\n",
       "      <td>0</td>\n",
       "    </tr>\n",
       "    <tr>\n",
       "      <th>1077021</th>\n",
       "      <td>d6831b8edacb7d9928b3f053fb1283574577ae42</td>\n",
       "      <td>NaN</td>\n",
       "      <td>K &gt; 24 month</td>\n",
       "      <td>NaN</td>\n",
       "      <td>NaN</td>\n",
       "      <td>NaN</td>\n",
       "      <td>NaN</td>\n",
       "      <td>NaN</td>\n",
       "      <td>NaN</td>\n",
       "      <td>NaN</td>\n",
       "      <td>NaN</td>\n",
       "      <td>NaN</td>\n",
       "      <td>NaN</td>\n",
       "      <td>NaN</td>\n",
       "      <td>NO</td>\n",
       "      <td>3</td>\n",
       "      <td>NaN</td>\n",
       "      <td>NaN</td>\n",
       "      <td>1</td>\n",
       "    </tr>\n",
       "    <tr>\n",
       "      <th>1077022</th>\n",
       "      <td>cb1f6510b084173c0deae49095f35ac29f916701</td>\n",
       "      <td>NaN</td>\n",
       "      <td>K &gt; 24 month</td>\n",
       "      <td>600.0</td>\n",
       "      <td>1.0</td>\n",
       "      <td>600.0</td>\n",
       "      <td>200.0</td>\n",
       "      <td>1.0</td>\n",
       "      <td>591.0</td>\n",
       "      <td>11.0</td>\n",
       "      <td>37.0</td>\n",
       "      <td>5.0</td>\n",
       "      <td>1.0</td>\n",
       "      <td>NaN</td>\n",
       "      <td>NO</td>\n",
       "      <td>16</td>\n",
       "      <td>All-net 600F= 3000F ;5d</td>\n",
       "      <td>1.0</td>\n",
       "      <td>0</td>\n",
       "    </tr>\n",
       "    <tr>\n",
       "      <th>1077023</th>\n",
       "      <td>28f56fd0d9f8d8647bb6c62e7a3f4f35f49f4d6f</td>\n",
       "      <td>FATICK</td>\n",
       "      <td>K &gt; 24 month</td>\n",
       "      <td>1500.0</td>\n",
       "      <td>4.0</td>\n",
       "      <td>1499.0</td>\n",
       "      <td>500.0</td>\n",
       "      <td>5.0</td>\n",
       "      <td>1265.0</td>\n",
       "      <td>30.0</td>\n",
       "      <td>4.0</td>\n",
       "      <td>NaN</td>\n",
       "      <td>NaN</td>\n",
       "      <td>0.0</td>\n",
       "      <td>NO</td>\n",
       "      <td>50</td>\n",
       "      <td>On net 200F=Unlimited _call24H</td>\n",
       "      <td>2.0</td>\n",
       "      <td>0</td>\n",
       "    </tr>\n",
       "  </tbody>\n",
       "</table>\n",
       "</div>"
      ],
      "text/plain": [
       "                                          user_id       REGION        TENURE  \\\n",
       "1077019  56e22fe3312a48cf860b043a021dab275383a20a          NaN  K > 24 month   \n",
       "1077020  587b72930e4d36b3fb94a18c3ef65c2079460eee  TAMBACOUNDA  K > 24 month   \n",
       "1077021  d6831b8edacb7d9928b3f053fb1283574577ae42          NaN  K > 24 month   \n",
       "1077022  cb1f6510b084173c0deae49095f35ac29f916701          NaN  K > 24 month   \n",
       "1077023  28f56fd0d9f8d8647bb6c62e7a3f4f35f49f4d6f       FATICK  K > 24 month   \n",
       "\n",
       "         MONTANT  FREQUENCE_RECH  REVENUE  ARPU_SEGMENT  FREQUENCE  \\\n",
       "1077019      NaN             NaN      NaN           NaN        NaN   \n",
       "1077020   2500.0             5.0   2500.0         833.0        5.0   \n",
       "1077021      NaN             NaN      NaN           NaN        NaN   \n",
       "1077022    600.0             1.0    600.0         200.0        1.0   \n",
       "1077023   1500.0             4.0   1499.0         500.0        5.0   \n",
       "\n",
       "         DATA_VOLUME  ON_NET  ORANGE  TIGO  ZONE1  ZONE2 MRG  REGULARITY  \\\n",
       "1077019          NaN     NaN     NaN   NaN    NaN    NaN  NO          16   \n",
       "1077020          0.0    15.0    77.0   NaN    NaN    NaN  NO          34   \n",
       "1077021          NaN     NaN     NaN   NaN    NaN    NaN  NO           3   \n",
       "1077022        591.0    11.0    37.0   5.0    1.0    NaN  NO          16   \n",
       "1077023       1265.0    30.0     4.0   NaN    NaN    0.0  NO          50   \n",
       "\n",
       "                               TOP_PACK  FREQ_TOP_PACK  CHURN  \n",
       "1077019                             NaN            NaN      0  \n",
       "1077020           All-net 500F=2000F;5d            2.0      0  \n",
       "1077021                             NaN            NaN      1  \n",
       "1077022         All-net 600F= 3000F ;5d            1.0      0  \n",
       "1077023  On net 200F=Unlimited _call24H            2.0      0  "
      ]
     },
     "execution_count": 5,
     "metadata": {},
     "output_type": "execute_result"
    }
   ],
   "source": [
    "#Preview of last rows in train set\n",
    "train.tail()"
   ]
  },
  {
   "cell_type": "code",
   "execution_count": 7,
   "metadata": {},
   "outputs": [
    {
     "name": "stdout",
     "output_type": "stream",
     "text": [
      "<class 'pandas.core.frame.DataFrame'>\n",
      "RangeIndex: 1077024 entries, 0 to 1077023\n",
      "Data columns (total 19 columns):\n",
      " #   Column          Non-Null Count    Dtype  \n",
      "---  ------          --------------    -----  \n",
      " 0   user_id         1077024 non-null  object \n",
      " 1   REGION          652687 non-null   object \n",
      " 2   TENURE          1077024 non-null  object \n",
      " 3   MONTANT         699139 non-null   float64\n",
      " 4   FREQUENCE_RECH  699139 non-null   float64\n",
      " 5   REVENUE         714669 non-null   float64\n",
      " 6   ARPU_SEGMENT    714669 non-null   float64\n",
      " 7   FREQUENCE       714669 non-null   float64\n",
      " 8   DATA_VOLUME     547261 non-null   float64\n",
      " 9   ON_NET          683850 non-null   float64\n",
      " 10  ORANGE          629880 non-null   float64\n",
      " 11  TIGO            432250 non-null   float64\n",
      " 12  ZONE1           84898 non-null    float64\n",
      " 13  ZONE2           68794 non-null    float64\n",
      " 14  MRG             1077024 non-null  object \n",
      " 15  REGULARITY      1077024 non-null  int64  \n",
      " 16  TOP_PACK        626129 non-null   object \n",
      " 17  FREQ_TOP_PACK   626129 non-null   float64\n",
      " 18  CHURN           1077024 non-null  int64  \n",
      "dtypes: float64(12), int64(2), object(5)\n",
      "memory usage: 156.1+ MB\n"
     ]
    }
   ],
   "source": [
    "#information summary on train set\n",
    "train.info()"
   ]
  },
  {
   "cell_type": "code",
   "execution_count": 8,
   "metadata": {},
   "outputs": [
    {
     "data": {
      "text/html": [
       "<div>\n",
       "<style scoped>\n",
       "    .dataframe tbody tr th:only-of-type {\n",
       "        vertical-align: middle;\n",
       "    }\n",
       "\n",
       "    .dataframe tbody tr th {\n",
       "        vertical-align: top;\n",
       "    }\n",
       "\n",
       "    .dataframe thead th {\n",
       "        text-align: right;\n",
       "    }\n",
       "</style>\n",
       "<table border=\"1\" class=\"dataframe\">\n",
       "  <thead>\n",
       "    <tr style=\"text-align: right;\">\n",
       "      <th></th>\n",
       "      <th>count</th>\n",
       "      <th>mean</th>\n",
       "      <th>std</th>\n",
       "      <th>min</th>\n",
       "      <th>25%</th>\n",
       "      <th>50%</th>\n",
       "      <th>75%</th>\n",
       "      <th>max</th>\n",
       "    </tr>\n",
       "  </thead>\n",
       "  <tbody>\n",
       "    <tr>\n",
       "      <th>MONTANT</th>\n",
       "      <td>699139.0</td>\n",
       "      <td>5529.210895</td>\n",
       "      <td>7104.737952</td>\n",
       "      <td>20.0</td>\n",
       "      <td>1000.0</td>\n",
       "      <td>3000.0</td>\n",
       "      <td>7350.0</td>\n",
       "      <td>470000.0</td>\n",
       "    </tr>\n",
       "    <tr>\n",
       "      <th>FREQUENCE_RECH</th>\n",
       "      <td>699139.0</td>\n",
       "      <td>11.523756</td>\n",
       "      <td>13.261938</td>\n",
       "      <td>1.0</td>\n",
       "      <td>2.0</td>\n",
       "      <td>7.0</td>\n",
       "      <td>16.0</td>\n",
       "      <td>131.0</td>\n",
       "    </tr>\n",
       "    <tr>\n",
       "      <th>REVENUE</th>\n",
       "      <td>714669.0</td>\n",
       "      <td>5506.050798</td>\n",
       "      <td>7175.625010</td>\n",
       "      <td>1.0</td>\n",
       "      <td>1000.0</td>\n",
       "      <td>3000.0</td>\n",
       "      <td>7360.0</td>\n",
       "      <td>532177.0</td>\n",
       "    </tr>\n",
       "    <tr>\n",
       "      <th>ARPU_SEGMENT</th>\n",
       "      <td>714669.0</td>\n",
       "      <td>1835.355961</td>\n",
       "      <td>2391.870902</td>\n",
       "      <td>0.0</td>\n",
       "      <td>333.0</td>\n",
       "      <td>1000.0</td>\n",
       "      <td>2453.0</td>\n",
       "      <td>177392.0</td>\n",
       "    </tr>\n",
       "    <tr>\n",
       "      <th>FREQUENCE</th>\n",
       "      <td>714669.0</td>\n",
       "      <td>13.974439</td>\n",
       "      <td>14.687059</td>\n",
       "      <td>1.0</td>\n",
       "      <td>3.0</td>\n",
       "      <td>9.0</td>\n",
       "      <td>20.0</td>\n",
       "      <td>91.0</td>\n",
       "    </tr>\n",
       "    <tr>\n",
       "      <th>DATA_VOLUME</th>\n",
       "      <td>547261.0</td>\n",
       "      <td>3368.801722</td>\n",
       "      <td>12898.928039</td>\n",
       "      <td>0.0</td>\n",
       "      <td>0.0</td>\n",
       "      <td>258.0</td>\n",
       "      <td>2905.0</td>\n",
       "      <td>1702309.0</td>\n",
       "    </tr>\n",
       "    <tr>\n",
       "      <th>ON_NET</th>\n",
       "      <td>683850.0</td>\n",
       "      <td>277.065798</td>\n",
       "      <td>874.315378</td>\n",
       "      <td>0.0</td>\n",
       "      <td>5.0</td>\n",
       "      <td>27.0</td>\n",
       "      <td>156.0</td>\n",
       "      <td>50809.0</td>\n",
       "    </tr>\n",
       "    <tr>\n",
       "      <th>ORANGE</th>\n",
       "      <td>629880.0</td>\n",
       "      <td>95.160804</td>\n",
       "      <td>203.020261</td>\n",
       "      <td>0.0</td>\n",
       "      <td>7.0</td>\n",
       "      <td>29.0</td>\n",
       "      <td>99.0</td>\n",
       "      <td>12040.0</td>\n",
       "    </tr>\n",
       "    <tr>\n",
       "      <th>TIGO</th>\n",
       "      <td>432250.0</td>\n",
       "      <td>23.105018</td>\n",
       "      <td>64.035464</td>\n",
       "      <td>0.0</td>\n",
       "      <td>2.0</td>\n",
       "      <td>6.0</td>\n",
       "      <td>20.0</td>\n",
       "      <td>4174.0</td>\n",
       "    </tr>\n",
       "    <tr>\n",
       "      <th>ZONE1</th>\n",
       "      <td>84898.0</td>\n",
       "      <td>8.167483</td>\n",
       "      <td>39.245883</td>\n",
       "      <td>0.0</td>\n",
       "      <td>0.0</td>\n",
       "      <td>1.0</td>\n",
       "      <td>3.0</td>\n",
       "      <td>2507.0</td>\n",
       "    </tr>\n",
       "    <tr>\n",
       "      <th>ZONE2</th>\n",
       "      <td>68794.0</td>\n",
       "      <td>7.709844</td>\n",
       "      <td>36.090513</td>\n",
       "      <td>0.0</td>\n",
       "      <td>0.0</td>\n",
       "      <td>2.0</td>\n",
       "      <td>5.0</td>\n",
       "      <td>3697.0</td>\n",
       "    </tr>\n",
       "    <tr>\n",
       "      <th>REGULARITY</th>\n",
       "      <td>1077024.0</td>\n",
       "      <td>28.044496</td>\n",
       "      <td>22.288610</td>\n",
       "      <td>1.0</td>\n",
       "      <td>6.0</td>\n",
       "      <td>24.0</td>\n",
       "      <td>51.0</td>\n",
       "      <td>62.0</td>\n",
       "    </tr>\n",
       "    <tr>\n",
       "      <th>FREQ_TOP_PACK</th>\n",
       "      <td>626129.0</td>\n",
       "      <td>9.262446</td>\n",
       "      <td>12.242316</td>\n",
       "      <td>1.0</td>\n",
       "      <td>2.0</td>\n",
       "      <td>5.0</td>\n",
       "      <td>12.0</td>\n",
       "      <td>624.0</td>\n",
       "    </tr>\n",
       "    <tr>\n",
       "      <th>CHURN</th>\n",
       "      <td>1077024.0</td>\n",
       "      <td>0.187547</td>\n",
       "      <td>0.390350</td>\n",
       "      <td>0.0</td>\n",
       "      <td>0.0</td>\n",
       "      <td>0.0</td>\n",
       "      <td>0.0</td>\n",
       "      <td>1.0</td>\n",
       "    </tr>\n",
       "  </tbody>\n",
       "</table>\n",
       "</div>"
      ],
      "text/plain": [
       "                    count         mean           std   min     25%     50%  \\\n",
       "MONTANT          699139.0  5529.210895   7104.737952  20.0  1000.0  3000.0   \n",
       "FREQUENCE_RECH   699139.0    11.523756     13.261938   1.0     2.0     7.0   \n",
       "REVENUE          714669.0  5506.050798   7175.625010   1.0  1000.0  3000.0   \n",
       "ARPU_SEGMENT     714669.0  1835.355961   2391.870902   0.0   333.0  1000.0   \n",
       "FREQUENCE        714669.0    13.974439     14.687059   1.0     3.0     9.0   \n",
       "DATA_VOLUME      547261.0  3368.801722  12898.928039   0.0     0.0   258.0   \n",
       "ON_NET           683850.0   277.065798    874.315378   0.0     5.0    27.0   \n",
       "ORANGE           629880.0    95.160804    203.020261   0.0     7.0    29.0   \n",
       "TIGO             432250.0    23.105018     64.035464   0.0     2.0     6.0   \n",
       "ZONE1             84898.0     8.167483     39.245883   0.0     0.0     1.0   \n",
       "ZONE2             68794.0     7.709844     36.090513   0.0     0.0     2.0   \n",
       "REGULARITY      1077024.0    28.044496     22.288610   1.0     6.0    24.0   \n",
       "FREQ_TOP_PACK    626129.0     9.262446     12.242316   1.0     2.0     5.0   \n",
       "CHURN           1077024.0     0.187547      0.390350   0.0     0.0     0.0   \n",
       "\n",
       "                   75%        max  \n",
       "MONTANT         7350.0   470000.0  \n",
       "FREQUENCE_RECH    16.0      131.0  \n",
       "REVENUE         7360.0   532177.0  \n",
       "ARPU_SEGMENT    2453.0   177392.0  \n",
       "FREQUENCE         20.0       91.0  \n",
       "DATA_VOLUME     2905.0  1702309.0  \n",
       "ON_NET           156.0    50809.0  \n",
       "ORANGE            99.0    12040.0  \n",
       "TIGO              20.0     4174.0  \n",
       "ZONE1              3.0     2507.0  \n",
       "ZONE2              5.0     3697.0  \n",
       "REGULARITY        51.0       62.0  \n",
       "FREQ_TOP_PACK     12.0      624.0  \n",
       "CHURN              0.0        1.0  "
      ]
     },
     "execution_count": 8,
     "metadata": {},
     "output_type": "execute_result"
    }
   ],
   "source": [
    "#summary of numerical description in train set\n",
    "train.describe().T"
   ]
  },
  {
   "cell_type": "code",
   "execution_count": 9,
   "metadata": {},
   "outputs": [
    {
     "name": "stdout",
     "output_type": "stream",
     "text": [
      "Missing values in train dataset\n",
      "----------------------------\n"
     ]
    },
    {
     "data": {
      "text/plain": [
       "user_id                 0\n",
       "REGION             424337\n",
       "TENURE                  0\n",
       "MONTANT            377885\n",
       "FREQUENCE_RECH     377885\n",
       "REVENUE            362355\n",
       "ARPU_SEGMENT       362355\n",
       "FREQUENCE          362355\n",
       "DATA_VOLUME        529763\n",
       "ON_NET             393174\n",
       "ORANGE             447144\n",
       "TIGO               644774\n",
       "ZONE1              992126\n",
       "ZONE2             1008230\n",
       "MRG                     0\n",
       "REGULARITY              0\n",
       "TOP_PACK           450895\n",
       "FREQ_TOP_PACK      450895\n",
       "CHURN                   0\n",
       "dtype: int64"
      ]
     },
     "execution_count": 9,
     "metadata": {},
     "output_type": "execute_result"
    }
   ],
   "source": [
    "#Are there missing values in train dataset? What's the count?\n",
    "print(\"Missing values in train dataset\")\n",
    "print(\"----\" * 7)\n",
    "train.isna().sum()"
   ]
  },
  {
   "cell_type": "code",
   "execution_count": 10,
   "metadata": {},
   "outputs": [
    {
     "data": {
      "text/plain": [
       "user_id            0.00\n",
       "REGION            39.40\n",
       "TENURE             0.00\n",
       "MONTANT           35.09\n",
       "FREQUENCE_RECH    35.09\n",
       "REVENUE           33.64\n",
       "ARPU_SEGMENT      33.64\n",
       "FREQUENCE         33.64\n",
       "DATA_VOLUME       49.19\n",
       "ON_NET            36.51\n",
       "ORANGE            41.52\n",
       "TIGO              59.87\n",
       "ZONE1             92.12\n",
       "ZONE2             93.61\n",
       "MRG                0.00\n",
       "REGULARITY         0.00\n",
       "TOP_PACK          41.86\n",
       "FREQ_TOP_PACK     41.86\n",
       "CHURN              0.00\n",
       "dtype: float64"
      ]
     },
     "execution_count": 10,
     "metadata": {},
     "output_type": "execute_result"
    }
   ],
   "source": [
    "#  What is the percentage of missing values in train columns\n",
    "percent_missing_values =( (train.isna().sum()/len(train)) * 100)\n",
    "\n",
    "percent_missing_values.round(2)."
   ]
  },
  {
   "cell_type": "code",
   "execution_count": 9,
   "metadata": {},
   "outputs": [
    {
     "name": "stdout",
     "output_type": "stream",
     "text": [
      "Count of duplicates in train dataset: 0\n"
     ]
    }
   ],
   "source": [
    "#Check of duplicates in train dataset\n",
    "print(f\"Count of duplicates in train dataset:\", train.duplicated().sum())"
   ]
  },
  {
   "cell_type": "code",
   "execution_count": 11,
   "metadata": {},
   "outputs": [
    {
     "data": {
      "text/html": [
       "<div>\n",
       "<style scoped>\n",
       "    .dataframe tbody tr th:only-of-type {\n",
       "        vertical-align: middle;\n",
       "    }\n",
       "\n",
       "    .dataframe tbody tr th {\n",
       "        vertical-align: top;\n",
       "    }\n",
       "\n",
       "    .dataframe thead th {\n",
       "        text-align: right;\n",
       "    }\n",
       "</style>\n",
       "<table border=\"1\" class=\"dataframe\">\n",
       "  <thead>\n",
       "    <tr style=\"text-align: right;\">\n",
       "      <th></th>\n",
       "      <th>user_id</th>\n",
       "      <th>REGION</th>\n",
       "      <th>TENURE</th>\n",
       "      <th>MONTANT</th>\n",
       "      <th>FREQUENCE_RECH</th>\n",
       "      <th>REVENUE</th>\n",
       "      <th>ARPU_SEGMENT</th>\n",
       "      <th>FREQUENCE</th>\n",
       "      <th>DATA_VOLUME</th>\n",
       "      <th>ON_NET</th>\n",
       "      <th>ORANGE</th>\n",
       "      <th>TIGO</th>\n",
       "      <th>ZONE1</th>\n",
       "      <th>ZONE2</th>\n",
       "      <th>MRG</th>\n",
       "      <th>REGULARITY</th>\n",
       "      <th>TOP_PACK</th>\n",
       "      <th>FREQ_TOP_PACK</th>\n",
       "    </tr>\n",
       "  </thead>\n",
       "  <tbody>\n",
       "    <tr>\n",
       "      <th>0</th>\n",
       "      <td>51fe4c3347db1f8571d18ac03f716c41acee30a4</td>\n",
       "      <td>MATAM</td>\n",
       "      <td>I 18-21 month</td>\n",
       "      <td>2500.0</td>\n",
       "      <td>5.0</td>\n",
       "      <td>2500.0</td>\n",
       "      <td>833.0</td>\n",
       "      <td>5.0</td>\n",
       "      <td>0.0</td>\n",
       "      <td>64.0</td>\n",
       "      <td>70.0</td>\n",
       "      <td>NaN</td>\n",
       "      <td>NaN</td>\n",
       "      <td>NaN</td>\n",
       "      <td>NO</td>\n",
       "      <td>35</td>\n",
       "      <td>All-net 500F=2000F;5d</td>\n",
       "      <td>5.0</td>\n",
       "    </tr>\n",
       "    <tr>\n",
       "      <th>1</th>\n",
       "      <td>5ad5d67c175bce107cc97b98c4e37dcc38aa7f3e</td>\n",
       "      <td>NaN</td>\n",
       "      <td>K &gt; 24 month</td>\n",
       "      <td>NaN</td>\n",
       "      <td>NaN</td>\n",
       "      <td>NaN</td>\n",
       "      <td>NaN</td>\n",
       "      <td>NaN</td>\n",
       "      <td>NaN</td>\n",
       "      <td>NaN</td>\n",
       "      <td>NaN</td>\n",
       "      <td>NaN</td>\n",
       "      <td>NaN</td>\n",
       "      <td>NaN</td>\n",
       "      <td>NO</td>\n",
       "      <td>2</td>\n",
       "      <td>NaN</td>\n",
       "      <td>NaN</td>\n",
       "    </tr>\n",
       "    <tr>\n",
       "      <th>2</th>\n",
       "      <td>5a4db591c953a8d8f373877fad37aaf4268899a1</td>\n",
       "      <td>NaN</td>\n",
       "      <td>K &gt; 24 month</td>\n",
       "      <td>NaN</td>\n",
       "      <td>NaN</td>\n",
       "      <td>NaN</td>\n",
       "      <td>NaN</td>\n",
       "      <td>NaN</td>\n",
       "      <td>0.0</td>\n",
       "      <td>NaN</td>\n",
       "      <td>NaN</td>\n",
       "      <td>NaN</td>\n",
       "      <td>NaN</td>\n",
       "      <td>NaN</td>\n",
       "      <td>NO</td>\n",
       "      <td>22</td>\n",
       "      <td>NaN</td>\n",
       "      <td>NaN</td>\n",
       "    </tr>\n",
       "    <tr>\n",
       "      <th>3</th>\n",
       "      <td>8bf9b4d8880aeba1c9a0da48be78f12e629be37c</td>\n",
       "      <td>NaN</td>\n",
       "      <td>K &gt; 24 month</td>\n",
       "      <td>NaN</td>\n",
       "      <td>NaN</td>\n",
       "      <td>NaN</td>\n",
       "      <td>NaN</td>\n",
       "      <td>NaN</td>\n",
       "      <td>NaN</td>\n",
       "      <td>NaN</td>\n",
       "      <td>NaN</td>\n",
       "      <td>NaN</td>\n",
       "      <td>NaN</td>\n",
       "      <td>NaN</td>\n",
       "      <td>NO</td>\n",
       "      <td>6</td>\n",
       "      <td>NaN</td>\n",
       "      <td>NaN</td>\n",
       "    </tr>\n",
       "    <tr>\n",
       "      <th>4</th>\n",
       "      <td>c7cdf2af01e9fa95bf498b68c122aa4b9a8d10df</td>\n",
       "      <td>SAINT-LOUIS</td>\n",
       "      <td>K &gt; 24 month</td>\n",
       "      <td>5100.0</td>\n",
       "      <td>7.0</td>\n",
       "      <td>5637.0</td>\n",
       "      <td>1879.0</td>\n",
       "      <td>15.0</td>\n",
       "      <td>7783.0</td>\n",
       "      <td>30.0</td>\n",
       "      <td>24.0</td>\n",
       "      <td>0.0</td>\n",
       "      <td>0.0</td>\n",
       "      <td>NaN</td>\n",
       "      <td>NO</td>\n",
       "      <td>60</td>\n",
       "      <td>Data:1000F=2GB,30d</td>\n",
       "      <td>4.0</td>\n",
       "    </tr>\n",
       "  </tbody>\n",
       "</table>\n",
       "</div>"
      ],
      "text/plain": [
       "                                    user_id       REGION         TENURE  \\\n",
       "0  51fe4c3347db1f8571d18ac03f716c41acee30a4        MATAM  I 18-21 month   \n",
       "1  5ad5d67c175bce107cc97b98c4e37dcc38aa7f3e          NaN   K > 24 month   \n",
       "2  5a4db591c953a8d8f373877fad37aaf4268899a1          NaN   K > 24 month   \n",
       "3  8bf9b4d8880aeba1c9a0da48be78f12e629be37c          NaN   K > 24 month   \n",
       "4  c7cdf2af01e9fa95bf498b68c122aa4b9a8d10df  SAINT-LOUIS   K > 24 month   \n",
       "\n",
       "   MONTANT  FREQUENCE_RECH  REVENUE  ARPU_SEGMENT  FREQUENCE  DATA_VOLUME  \\\n",
       "0   2500.0             5.0   2500.0         833.0        5.0          0.0   \n",
       "1      NaN             NaN      NaN           NaN        NaN          NaN   \n",
       "2      NaN             NaN      NaN           NaN        NaN          0.0   \n",
       "3      NaN             NaN      NaN           NaN        NaN          NaN   \n",
       "4   5100.0             7.0   5637.0        1879.0       15.0       7783.0   \n",
       "\n",
       "   ON_NET  ORANGE  TIGO  ZONE1  ZONE2 MRG  REGULARITY               TOP_PACK  \\\n",
       "0    64.0    70.0   NaN    NaN    NaN  NO          35  All-net 500F=2000F;5d   \n",
       "1     NaN     NaN   NaN    NaN    NaN  NO           2                    NaN   \n",
       "2     NaN     NaN   NaN    NaN    NaN  NO          22                    NaN   \n",
       "3     NaN     NaN   NaN    NaN    NaN  NO           6                    NaN   \n",
       "4    30.0    24.0   0.0    0.0    NaN  NO          60     Data:1000F=2GB,30d   \n",
       "\n",
       "   FREQ_TOP_PACK  \n",
       "0            5.0  \n",
       "1            NaN  \n",
       "2            NaN  \n",
       "3            NaN  \n",
       "4            4.0  "
      ]
     },
     "execution_count": 11,
     "metadata": {},
     "output_type": "execute_result"
    }
   ],
   "source": [
    "#preview of test dataset\n",
    "test.head(5)"
   ]
  },
  {
   "cell_type": "code",
   "execution_count": 12,
   "metadata": {},
   "outputs": [
    {
     "name": "stdout",
     "output_type": "stream",
     "text": [
      "<class 'pandas.core.frame.DataFrame'>\n",
      "RangeIndex: 190063 entries, 0 to 190062\n",
      "Data columns (total 18 columns):\n",
      " #   Column          Non-Null Count   Dtype  \n",
      "---  ------          --------------   -----  \n",
      " 0   user_id         190063 non-null  object \n",
      " 1   REGION          115330 non-null  object \n",
      " 2   TENURE          190063 non-null  object \n",
      " 3   MONTANT         123695 non-null  float64\n",
      " 4   FREQUENCE_RECH  123695 non-null  float64\n",
      " 5   REVENUE         126422 non-null  float64\n",
      " 6   ARPU_SEGMENT    126422 non-null  float64\n",
      " 7   FREQUENCE       126422 non-null  float64\n",
      " 8   DATA_VOLUME     96716 non-null   float64\n",
      " 9   ON_NET          120771 non-null  float64\n",
      " 10  ORANGE          111417 non-null  float64\n",
      " 11  TIGO            76555 non-null   float64\n",
      " 12  ZONE1           14850 non-null   float64\n",
      " 13  ZONE2           12011 non-null   float64\n",
      " 14  MRG             190063 non-null  object \n",
      " 15  REGULARITY      190063 non-null  int64  \n",
      " 16  TOP_PACK        110773 non-null  object \n",
      " 17  FREQ_TOP_PACK   110773 non-null  float64\n",
      "dtypes: float64(12), int64(1), object(5)\n",
      "memory usage: 26.1+ MB\n"
     ]
    }
   ],
   "source": [
    "#Information summary on test set\n",
    "\n",
    "test.info()"
   ]
  },
  {
   "cell_type": "code",
   "execution_count": 13,
   "metadata": {},
   "outputs": [
    {
     "name": "stdout",
     "output_type": "stream",
     "text": [
      "Missing values in test dataset\n",
      "----------------------------\n"
     ]
    },
    {
     "data": {
      "text/plain": [
       "user_id                0\n",
       "REGION             74733\n",
       "TENURE                 0\n",
       "MONTANT            66368\n",
       "FREQUENCE_RECH     66368\n",
       "REVENUE            63641\n",
       "ARPU_SEGMENT       63641\n",
       "FREQUENCE          63641\n",
       "DATA_VOLUME        93347\n",
       "ON_NET             69292\n",
       "ORANGE             78646\n",
       "TIGO              113508\n",
       "ZONE1             175213\n",
       "ZONE2             178052\n",
       "MRG                    0\n",
       "REGULARITY             0\n",
       "TOP_PACK           79290\n",
       "FREQ_TOP_PACK      79290\n",
       "dtype: int64"
      ]
     },
     "execution_count": 13,
     "metadata": {},
     "output_type": "execute_result"
    }
   ],
   "source": [
    "#Check of missing values in test dataset.\n",
    "\n",
    "print(\"Missing values in test dataset\")\n",
    "print(\"----\" * 7)\n",
    "\n",
    "test.isna().sum()"
   ]
  },
  {
   "cell_type": "code",
   "execution_count": 14,
   "metadata": {},
   "outputs": [
    {
     "data": {
      "text/plain": [
       "user_id            0.00\n",
       "REGION            39.32\n",
       "TENURE             0.00\n",
       "MONTANT           34.92\n",
       "FREQUENCE_RECH    34.92\n",
       "REVENUE           33.48\n",
       "ARPU_SEGMENT      33.48\n",
       "FREQUENCE         33.48\n",
       "DATA_VOLUME       49.11\n",
       "ON_NET            36.46\n",
       "ORANGE            41.38\n",
       "TIGO              59.72\n",
       "ZONE1             92.19\n",
       "ZONE2             93.68\n",
       "MRG                0.00\n",
       "REGULARITY         0.00\n",
       "TOP_PACK          41.72\n",
       "FREQ_TOP_PACK     41.72\n",
       "dtype: float64"
      ]
     },
     "execution_count": 14,
     "metadata": {},
     "output_type": "execute_result"
    }
   ],
   "source": [
    "#  What is the percentage of missing values in test columns\n",
    "percent_missing_values =( (test.isna().sum()/len(test)) * 100)\n",
    "\n",
    "percent_missing_values.round(2)"
   ]
  },
  {
   "cell_type": "code",
   "execution_count": 15,
   "metadata": {},
   "outputs": [
    {
     "name": "stdout",
     "output_type": "stream",
     "text": [
      "Count of duplicates in test dataset: 0\n"
     ]
    }
   ],
   "source": [
    "#Are there duplicates in test set?\n",
    "print(f\"Count of duplicates in test dataset:\", test.duplicated().sum())"
   ]
  },
  {
   "cell_type": "code",
   "execution_count": 16,
   "metadata": {},
   "outputs": [
    {
     "name": "stdout",
     "output_type": "stream",
     "text": [
      "shape of train set: (1077024, 19) \n",
      " shape of test set: (190063, 18)\n"
     ]
    }
   ],
   "source": [
    "#shape of both train and test set\n",
    "print(f'shape of train set: {train.shape} \\n shape of test set: {test.shape}')"
   ]
  },
  {
   "cell_type": "markdown",
   "metadata": {},
   "source": [
    "## EDA"
   ]
  },
  {
   "cell_type": "markdown",
   "metadata": {},
   "source": [
    "Check how many levels are involved in each of the categorical features (object)\n",
    "\n",
    "Categorical features are-->[REGION, TENURE, MRG, TOP_PACK]"
   ]
  },
  {
   "cell_type": "code",
   "execution_count": 17,
   "metadata": {},
   "outputs": [
    {
     "name": "stdout",
     "output_type": "stream",
     "text": [
      "REGION\n",
      "DAKAR          256259\n",
      "THIES           90171\n",
      "SAINT-LOUIS     59895\n",
      "LOUGA           49679\n",
      "KAOLACK         48498\n",
      "DIOURBEL        33564\n",
      "TAMBACOUNDA     27562\n",
      "KAFFRINE        22067\n",
      "KOLDA           19464\n",
      "FATICK          17775\n",
      "MATAM           14650\n",
      "ZIGUINCHOR      11036\n",
      "SEDHIOU          1553\n",
      "KEDOUGOU          514\n",
      "Name: count, dtype: int64\n"
     ]
    },
    {
     "data": {
      "image/png": "[encoded data removed]",
      "text/plain": [
       "<Figure size 1000x500 with 1 Axes>"
      ]
     },
     "metadata": {},
     "output_type": "display_data"
    }
   ],
   "source": [
    "# Region feature\n",
    "\n",
    "print(train['REGION'].value_counts())\n",
    "plt.figure(figsize=(10,5))\n",
    "train['REGION'].value_counts(normalize=True).plot(kind='bar')\n",
    "plt.ylabel('counts')\n",
    "plt.xlabel('REGION')\n",
    "plt.title('Client Distribution by Regions')\n",
    "plt.show()"
   ]
  },
  {
   "cell_type": "code",
   "execution_count": 18,
   "metadata": {},
   "outputs": [
    {
     "name": "stdout",
     "output_type": "stream",
     "text": [
      "TENURE\n",
      "K > 24 month     1021853\n",
      "I 18-21 month      22494\n",
      "H 15-18 month      12913\n",
      "G 12-15 month       7520\n",
      "J 21-24 month       6324\n",
      "F 9-12 month        4604\n",
      "E 6-9 month          929\n",
      "D 3-6 month          387\n",
      "Name: count, dtype: int64\n"
     ]
    },
    {
     "data": {
      "image/png": "[encoded data removed]",
      "text/plain": [
       "<Figure size 1000x500 with 1 Axes>"
      ]
     },
     "metadata": {},
     "output_type": "display_data"
    }
   ],
   "source": [
    "# Tenure feature\n",
    "\n",
    "print(train['TENURE'].value_counts())\n",
    "plt.figure(figsize=(10,5))\n",
    "train['TENURE'].value_counts(normalize=True).plot(kind='bar')\n",
    "plt.ylabel('counts')\n",
    "plt.xlabel('TENURE')\n",
    "plt.title('Client Distribution by Tenure')\n",
    "plt.show();"
   ]
  },
  {
   "cell_type": "markdown",
   "metadata": {},
   "source": [
    "Majority of clients have stayed with the telecom company for more than two years."
   ]
  },
  {
   "cell_type": "code",
   "execution_count": 29,
   "metadata": {},
   "outputs": [
    {
     "data": {
      "image/png": "[encoded data removed]",
      "text/plain": [
       "<Figure size 1000x500 with 1 Axes>"
      ]
     },
     "metadata": {},
     "output_type": "display_data"
    }
   ],
   "source": [
    "# Client distribution by tenure excluding 'K > 24 month'\n",
    "tenure_trimmed = train[train['TENURE']!='K > 24 month']\n",
    "\n",
    "# Visualization\n",
    "plt.figure(figsize=(10,5))\n",
    "tenure_trimmed['TENURE'].value_counts(normalize=True).plot(kind='bar')\n",
    "plt.ylabel('counts')\n",
    "plt.xlabel('TENURE')\n",
    "plt.title('Client Distribution by Tenure (Excluding K > 24 month)')\n",
    "plt.show();\n"
   ]
  },
  {
   "cell_type": "code",
   "execution_count": 30,
   "metadata": {},
   "outputs": [
    {
     "name": "stdout",
     "output_type": "stream",
     "text": [
      "MRG\n",
      "NO    1077024\n",
      "Name: count, dtype: int64\n"
     ]
    },
    {
     "data": {
      "image/png": "[encoded data removed]",
      "text/plain": [
       "<Figure size 1000x500 with 1 Axes>"
      ]
     },
     "metadata": {},
     "output_type": "display_data"
    }
   ],
   "source": [
    "#visualization of current clients who have not planned to leave \n",
    "\n",
    "print(train['MRG'].value_counts())\n",
    "plt.figure(figsize=(10,5))\n",
    "train['MRG'].value_counts(normalize=True).plot(kind='bar')\n",
    "plt.ylabel('counts')\n",
    "plt.xlabel('MRG')\n",
    "plt.title('Current Active Clients')\n",
    "plt.show();"
   ]
  },
  {
   "cell_type": "markdown",
   "metadata": {},
   "source": [
    "MRG column doesn't offer any valuable information in the prediction of the target, Churn. This column will be deleted."
   ]
  },
  {
   "cell_type": "code",
   "execution_count": 31,
   "metadata": {},
   "outputs": [
    {
     "name": "stdout",
     "output_type": "stream",
     "text": [
      "TOP_PACK\n",
      "All-net 500F=2000F;5d             158779\n",
      "On net 200F=Unlimited _call24H     76302\n",
      "Data:490F=1GB,7d                   57679\n",
      "Data: 100 F=40MB,24H               42515\n",
      "Mixt 250F=Unlimited_call24H        33620\n",
      "                                   ...  \n",
      "150=unlimited pilot auto               1\n",
      "FIFA_TS_weekly                         1\n",
      "Data_Mifi_10Go_Monthly                 1\n",
      "Data_Mifi_20Go                         1\n",
      "200=unlimited pilot auto               1\n",
      "Name: count, Length: 126, dtype: int64\n"
     ]
    },
    {
     "data": {
      "text/plain": [
       "Text(0.5, 0, 'TOP_PACK')"
      ]
     },
     "execution_count": 31,
     "metadata": {},
     "output_type": "execute_result"
    },
    {
     "data": {
      "image/png": "[encoded data removed]",
      "text/plain": [
       "<Figure size 1000x500 with 1 Axes>"
      ]
     },
     "metadata": {},
     "output_type": "display_data"
    }
   ],
   "source": [
    "#TOP_PACK Feature\n",
    "print(train['TOP_PACK'].value_counts())\n",
    "\n",
    "#Visualization of ten of the most subscribed data packs by customers\n",
    "plt.figure(figsize=(10,5))\n",
    "train['TOP_PACK'].value_counts(normalize=True).head(10).plot(kind='bar')\n",
    "plt.title('Top Ten Subscribed Data Packs')\n",
    "plt.ylabel('counts')\n",
    "plt.xlabel('TOP_PACK')"
   ]
  },
  {
   "cell_type": "code",
   "execution_count": 49,
   "metadata": {},
   "outputs": [
    {
     "name": "stdout",
     "output_type": "stream",
     "text": [
      "CHURN\n",
      "No     875031\n",
      "Yes    201993\n",
      "Name: count, dtype: int64\n"
     ]
    },
    {
     "data": {
      "image/png": "[encoded data removed]",
      "text/plain": [
       "<Figure size 500x500 with 1 Axes>"
      ]
     },
     "metadata": {},
     "output_type": "display_data"
    }
   ],
   "source": [
    "# Churn feature\n",
    "#Check if the predictor class is balanced \n",
    "churn_count = train['CHURN'].replace({0:'No', 1:'Yes'})\n",
    "churn_count = churn_count.value_counts()\n",
    "\n",
    "print(churn_count)\n",
    "\n",
    "#Plotting a pie chart\n",
    "plt.figure(figsize=(5, 5))\n",
    "plt.pie(churn_count, labels=churn_count.index, autopct='%1.1f%%')\n",
    "plt.title('Churn Distribution')\n",
    "plt.show();"
   ]
  },
  {
   "cell_type": "markdown",
   "metadata": {},
   "source": [
    "1. What is the relationship between tenure and churn? Are customers who have stayed longer with the telecom company most likely to churn?\n",
    "\n",
    "2. What is the relationship between Region and Churn? Are there regions with higher churn rates than others? \n",
    "\n"
   ]
  },
  {
   "cell_type": "code",
   "execution_count": 21,
   "metadata": {},
   "outputs": [],
   "source": [
    "#copy of train for visualization purposes\n",
    "\n",
    "train_c = train.copy()\n",
    "#Drop columns with many missing values\n",
    "df = train_c.drop(columns=['ZONE1', 'ZONE2', 'TIGO'], axis=1) \n",
    "# Drop rows with missing values\n",
    "df = df.dropna()"
   ]
  },
  {
   "cell_type": "markdown",
   "metadata": {},
   "source": [
    "1. What is the relationship between tenure and churn? Are customers who have stayed longer with the telecom company most likely to churn?"
   ]
  },
  {
   "cell_type": "code",
   "execution_count": null,
   "metadata": {},
   "outputs": [],
   "source": []
  },
  {
   "cell_type": "code",
   "execution_count": 22,
   "metadata": {},
   "outputs": [
    {
     "data": {
      "image/png": "[encoded data removed]",
      "text/plain": [
       "<Figure size 800x600 with 1 Axes>"
      ]
     },
     "metadata": {},
     "output_type": "display_data"
    }
   ],
   "source": [
    "#filter data for churned instances (positive class)\n",
    "churned_data = train[train['CHURN']==1]\n",
    "\n",
    "#creating horizontal bar plot\n",
    "plt.figure(figsize=(8, 6))\n",
    "sns.countplot(y='TENURE', data = churned_data)\n",
    "\n",
    "#Adding labels and title\n",
    "plt.xlabel('Count')\n",
    "plt.ylabel('Tenure')\n",
    "plt.title('Churned customers by Tenure')\n",
    "\n",
    "#show the plot\n",
    "plt.show()"
   ]
  },
  {
   "cell_type": "code",
   "execution_count": 23,
   "metadata": {},
   "outputs": [
    {
     "data": {
      "image/png": "[encoded data removed]",
      "text/plain": [
       "<Figure size 800x600 with 1 Axes>"
      ]
     },
     "metadata": {},
     "output_type": "display_data"
    }
   ],
   "source": [
    "#filter data for churned instances (positive class)\n",
    "churned_data = train[train['CHURN']==1]\n",
    "\n",
    "#Filtering out 'K > 24' column \n",
    "filtered_data = churned_data[churned_data['TENURE']!='K > 24 month']\n",
    "\n",
    "#creating horizontal bar plot\n",
    "plt.figure(figsize=(8, 6))\n",
    "sns.countplot(y='TENURE', data = filtered_data)\n",
    "\n",
    "#Adding labels and title\n",
    "plt.xlabel('Count')\n",
    "plt.ylabel('Tenure')\n",
    "plt.title('Churned customers by Tenure (Excluding K > 24 month)')\n",
    "\n",
    "#show the plot\n",
    "plt.show()"
   ]
  },
  {
   "cell_type": "markdown",
   "metadata": {},
   "source": [
    "Clients who have stayed longer with the telecom company are most likely to churn. Probably due to searching for better alternatives in the competitive market."
   ]
  },
  {
   "cell_type": "markdown",
   "metadata": {},
   "source": [
    "\n",
    "2. What is the relationship between Region and Churn? Are there regions with higher churn rates than others? "
   ]
  },
  {
   "cell_type": "code",
   "execution_count": 24,
   "metadata": {},
   "outputs": [
    {
     "data": {
      "image/png": "[encoded data removed]",
      "text/plain": [
       "<Figure size 800x600 with 1 Axes>"
      ]
     },
     "metadata": {},
     "output_type": "display_data"
    }
   ],
   "source": [
    "#df is a train dataframe having rows without missing values\n",
    "\n",
    "df['CHURN'] = df['CHURN'].replace({1:'Yes', 0: 'No'})\n",
    "#filter data for churned instances (positive class)\n",
    "churned_data = df[df['CHURN']=='Yes']\n",
    "\n",
    "#creating horizontal bar plot\n",
    "plt.figure(figsize=(8, 6))\n",
    "sns.countplot(y='REGION', data = churned_data)\n",
    "\n",
    "#Adding labels and title\n",
    "plt.xlabel('Count')\n",
    "plt.ylabel('REGION')\n",
    "plt.title('Churn Count by Region')\n",
    "\n",
    "#show the plot\n",
    "plt.show()"
   ]
  },
  {
   "cell_type": "code",
   "execution_count": 25,
   "metadata": {},
   "outputs": [
    {
     "data": {
      "image/png": "[encoded data removed]",
      "text/plain": [
       "<Figure size 800x600 with 1 Axes>"
      ]
     },
     "metadata": {},
     "output_type": "display_data"
    }
   ],
   "source": [
    "#filter data for churned instances (positive class)\n",
    "churned_data = df[df['CHURN']=='Yes']\n",
    "\n",
    "#Filtering out 'DAKAR' Region\n",
    "filtered_data = churned_data[churned_data['REGION']!='DAKAR']\n",
    "\n",
    "#creating horizontal bar plot\n",
    "plt.figure(figsize=(8, 6))\n",
    "sns.countplot(y='REGION', data = filtered_data)\n",
    "\n",
    "#Adding labels and title\n",
    "plt.xlabel('Count')\n",
    "plt.ylabel('REGION')\n",
    "plt.title('Churn Count by Region(Excluding DAKAR)')\n",
    "\n",
    "#show the plot\n",
    "plt.show()"
   ]
  },
  {
   "cell_type": "markdown",
   "metadata": {},
   "source": [
    "Dakar is the region having most customers who have churned"
   ]
  },
  {
   "cell_type": "markdown",
   "metadata": {},
   "source": [
    "## Preprocessing"
   ]
  },
  {
   "cell_type": "markdown",
   "metadata": {},
   "source": [
    "Drop of unecessary columns in both train & test set"
   ]
  },
  {
   "cell_type": "code",
   "execution_count": 26,
   "metadata": {},
   "outputs": [],
   "source": [
    "#We will drop REGION, TOP_PACK, and MRG. They have less contribution in prediction of the target.\n",
    "#We will also replace the missing values for the numerical columns with their means (averages)\n",
    "\n",
    "train.drop(columns=['REGION', 'MRG', 'TOP_PACK', 'ZONE1', 'ZONE2'], inplace=True) #drop these columns"
   ]
  },
  {
   "cell_type": "code",
   "execution_count": 27,
   "metadata": {},
   "outputs": [
    {
     "data": {
      "text/plain": [
       "Index(['user_id', 'TENURE', 'MONTANT', 'FREQUENCE_RECH', 'REVENUE',\n",
       "       'ARPU_SEGMENT', 'FREQUENCE', 'DATA_VOLUME', 'ON_NET', 'ORANGE', 'TIGO',\n",
       "       'REGULARITY', 'FREQ_TOP_PACK', 'CHURN'],\n",
       "      dtype='object')"
      ]
     },
     "execution_count": 27,
     "metadata": {},
     "output_type": "execute_result"
    }
   ],
   "source": [
    "#check if columns are dropped in train set\n",
    "train.columns"
   ]
  },
  {
   "cell_type": "code",
   "execution_count": 28,
   "metadata": {},
   "outputs": [],
   "source": [
    "test.drop(columns=['REGION', 'MRG', 'TOP_PACK', 'ZONE1', 'ZONE2'], inplace=True)"
   ]
  },
  {
   "cell_type": "code",
   "execution_count": 29,
   "metadata": {},
   "outputs": [
    {
     "data": {
      "text/plain": [
       "Index(['user_id', 'TENURE', 'MONTANT', 'FREQUENCE_RECH', 'REVENUE',\n",
       "       'ARPU_SEGMENT', 'FREQUENCE', 'DATA_VOLUME', 'ON_NET', 'ORANGE', 'TIGO',\n",
       "       'REGULARITY', 'FREQ_TOP_PACK'],\n",
       "      dtype='object')"
      ]
     },
     "execution_count": 29,
     "metadata": {},
     "output_type": "execute_result"
    }
   ],
   "source": [
    "#check if columns are dropped in test set\n",
    "test.columns"
   ]
  },
  {
   "cell_type": "markdown",
   "metadata": {},
   "source": [
    "Filling of Missing values(NAs)"
   ]
  },
  {
   "cell_type": "code",
   "execution_count": 30,
   "metadata": {},
   "outputs": [],
   "source": [
    "#Fill NAs for train data\n",
    "\n",
    "train['MONTANT'].fillna((train['MONTANT'].mean()), inplace=True)\n",
    "train['FREQUENCE_RECH'].fillna((train['FREQUENCE_RECH'].mean()), inplace=True)\n",
    "train['REVENUE'].fillna((train['REVENUE'].mean()), inplace=True)\n",
    "train['ARPU_SEGMENT'].fillna((train['ARPU_SEGMENT'].mean()), inplace=True)\n",
    "train['FREQUENCE'].fillna((train['FREQUENCE'].mean()), inplace=True)\n",
    "train['DATA_VOLUME'].fillna((train['DATA_VOLUME'].mean()), inplace=True)\n",
    "train['ON_NET'].fillna((train['ON_NET'].mean()), inplace=True)\n",
    "train['ORANGE'].fillna((train['ORANGE'].mean()), inplace=True)\n",
    "train['TIGO'].fillna((train['TIGO'].mean()), inplace=True)\n",
    "train['FREQ_TOP_PACK'].fillna((train['FREQ_TOP_PACK'].mean()), inplace=True)"
   ]
  },
  {
   "cell_type": "code",
   "execution_count": 31,
   "metadata": {},
   "outputs": [
    {
     "data": {
      "text/html": [
       "<div>\n",
       "<style scoped>\n",
       "    .dataframe tbody tr th:only-of-type {\n",
       "        vertical-align: middle;\n",
       "    }\n",
       "\n",
       "    .dataframe tbody tr th {\n",
       "        vertical-align: top;\n",
       "    }\n",
       "\n",
       "    .dataframe thead th {\n",
       "        text-align: right;\n",
       "    }\n",
       "</style>\n",
       "<table border=\"1\" class=\"dataframe\">\n",
       "  <thead>\n",
       "    <tr style=\"text-align: right;\">\n",
       "      <th></th>\n",
       "      <th>user_id</th>\n",
       "      <th>TENURE</th>\n",
       "      <th>MONTANT</th>\n",
       "      <th>FREQUENCE_RECH</th>\n",
       "      <th>REVENUE</th>\n",
       "      <th>ARPU_SEGMENT</th>\n",
       "      <th>FREQUENCE</th>\n",
       "      <th>DATA_VOLUME</th>\n",
       "      <th>ON_NET</th>\n",
       "      <th>ORANGE</th>\n",
       "      <th>TIGO</th>\n",
       "      <th>REGULARITY</th>\n",
       "      <th>FREQ_TOP_PACK</th>\n",
       "      <th>CHURN</th>\n",
       "    </tr>\n",
       "  </thead>\n",
       "  <tbody>\n",
       "    <tr>\n",
       "      <th>0</th>\n",
       "      <td>7ee9e11e342e27c70455960acc80d3f91c1286d1</td>\n",
       "      <td>K &gt; 24 month</td>\n",
       "      <td>20000.000000</td>\n",
       "      <td>47.000000</td>\n",
       "      <td>21602.000000</td>\n",
       "      <td>7201.000000</td>\n",
       "      <td>52.000000</td>\n",
       "      <td>8835.000000</td>\n",
       "      <td>3391.000000</td>\n",
       "      <td>396.000000</td>\n",
       "      <td>185.000000</td>\n",
       "      <td>62</td>\n",
       "      <td>30.000000</td>\n",
       "      <td>0</td>\n",
       "    </tr>\n",
       "    <tr>\n",
       "      <th>1</th>\n",
       "      <td>50443f42bdc92b10388fc56e520e4421a5fa655c</td>\n",
       "      <td>K &gt; 24 month</td>\n",
       "      <td>5529.210895</td>\n",
       "      <td>11.523756</td>\n",
       "      <td>5506.050798</td>\n",
       "      <td>1835.355961</td>\n",
       "      <td>13.974439</td>\n",
       "      <td>3368.801722</td>\n",
       "      <td>277.065798</td>\n",
       "      <td>95.160804</td>\n",
       "      <td>23.105018</td>\n",
       "      <td>3</td>\n",
       "      <td>9.262446</td>\n",
       "      <td>0</td>\n",
       "    </tr>\n",
       "    <tr>\n",
       "      <th>2</th>\n",
       "      <td>da90b5c1a9b204c186079f89969aa01cb03c91b2</td>\n",
       "      <td>K &gt; 24 month</td>\n",
       "      <td>5529.210895</td>\n",
       "      <td>11.523756</td>\n",
       "      <td>5506.050798</td>\n",
       "      <td>1835.355961</td>\n",
       "      <td>13.974439</td>\n",
       "      <td>3368.801722</td>\n",
       "      <td>277.065798</td>\n",
       "      <td>95.160804</td>\n",
       "      <td>23.105018</td>\n",
       "      <td>1</td>\n",
       "      <td>9.262446</td>\n",
       "      <td>0</td>\n",
       "    </tr>\n",
       "    <tr>\n",
       "      <th>3</th>\n",
       "      <td>364ec1b424cdc64c25441a444a16930289a0051e</td>\n",
       "      <td>K &gt; 24 month</td>\n",
       "      <td>7900.000000</td>\n",
       "      <td>19.000000</td>\n",
       "      <td>7896.000000</td>\n",
       "      <td>2632.000000</td>\n",
       "      <td>25.000000</td>\n",
       "      <td>9385.000000</td>\n",
       "      <td>27.000000</td>\n",
       "      <td>46.000000</td>\n",
       "      <td>20.000000</td>\n",
       "      <td>61</td>\n",
       "      <td>7.000000</td>\n",
       "      <td>0</td>\n",
       "    </tr>\n",
       "    <tr>\n",
       "      <th>4</th>\n",
       "      <td>d5a5247005bc6d41d3d99f4ef312ebb5f640f2cb</td>\n",
       "      <td>K &gt; 24 month</td>\n",
       "      <td>12350.000000</td>\n",
       "      <td>21.000000</td>\n",
       "      <td>12351.000000</td>\n",
       "      <td>4117.000000</td>\n",
       "      <td>29.000000</td>\n",
       "      <td>9360.000000</td>\n",
       "      <td>66.000000</td>\n",
       "      <td>102.000000</td>\n",
       "      <td>34.000000</td>\n",
       "      <td>56</td>\n",
       "      <td>11.000000</td>\n",
       "      <td>0</td>\n",
       "    </tr>\n",
       "  </tbody>\n",
       "</table>\n",
       "</div>"
      ],
      "text/plain": [
       "                                    user_id        TENURE       MONTANT  \\\n",
       "0  7ee9e11e342e27c70455960acc80d3f91c1286d1  K > 24 month  20000.000000   \n",
       "1  50443f42bdc92b10388fc56e520e4421a5fa655c  K > 24 month   5529.210895   \n",
       "2  da90b5c1a9b204c186079f89969aa01cb03c91b2  K > 24 month   5529.210895   \n",
       "3  364ec1b424cdc64c25441a444a16930289a0051e  K > 24 month   7900.000000   \n",
       "4  d5a5247005bc6d41d3d99f4ef312ebb5f640f2cb  K > 24 month  12350.000000   \n",
       "\n",
       "   FREQUENCE_RECH       REVENUE  ARPU_SEGMENT  FREQUENCE  DATA_VOLUME  \\\n",
       "0       47.000000  21602.000000   7201.000000  52.000000  8835.000000   \n",
       "1       11.523756   5506.050798   1835.355961  13.974439  3368.801722   \n",
       "2       11.523756   5506.050798   1835.355961  13.974439  3368.801722   \n",
       "3       19.000000   7896.000000   2632.000000  25.000000  9385.000000   \n",
       "4       21.000000  12351.000000   4117.000000  29.000000  9360.000000   \n",
       "\n",
       "        ON_NET      ORANGE        TIGO  REGULARITY  FREQ_TOP_PACK  CHURN  \n",
       "0  3391.000000  396.000000  185.000000          62      30.000000      0  \n",
       "1   277.065798   95.160804   23.105018           3       9.262446      0  \n",
       "2   277.065798   95.160804   23.105018           1       9.262446      0  \n",
       "3    27.000000   46.000000   20.000000          61       7.000000      0  \n",
       "4    66.000000  102.000000   34.000000          56      11.000000      0  "
      ]
     },
     "execution_count": 31,
     "metadata": {},
     "output_type": "execute_result"
    }
   ],
   "source": [
    "#Preview of modified train data\n",
    "train.head()"
   ]
  },
  {
   "cell_type": "code",
   "execution_count": 32,
   "metadata": {},
   "outputs": [
    {
     "data": {
      "text/plain": [
       "user_id           0\n",
       "TENURE            0\n",
       "MONTANT           0\n",
       "FREQUENCE_RECH    0\n",
       "REVENUE           0\n",
       "ARPU_SEGMENT      0\n",
       "FREQUENCE         0\n",
       "DATA_VOLUME       0\n",
       "ON_NET            0\n",
       "ORANGE            0\n",
       "TIGO              0\n",
       "REGULARITY        0\n",
       "FREQ_TOP_PACK     0\n",
       "CHURN             0\n",
       "dtype: int64"
      ]
     },
     "execution_count": 32,
     "metadata": {},
     "output_type": "execute_result"
    }
   ],
   "source": [
    "#Check of missing values in modified train set\n",
    "\n",
    "train.isnull().sum()"
   ]
  },
  {
   "cell_type": "code",
   "execution_count": 33,
   "metadata": {},
   "outputs": [],
   "source": [
    "#Fill NAs for test data\n",
    "\n",
    "test['MONTANT'].fillna((test['MONTANT'].mean()), inplace=True)\n",
    "test['FREQUENCE_RECH'].fillna((test['FREQUENCE_RECH'].mean()), inplace=True)\n",
    "test['REVENUE'].fillna((test['REVENUE'].mean()), inplace=True)\n",
    "test['ARPU_SEGMENT'].fillna((test['ARPU_SEGMENT'].mean()), inplace=True)\n",
    "test['FREQUENCE'].fillna((test['FREQUENCE'].mean()), inplace=True)\n",
    "test['DATA_VOLUME'].fillna((test['DATA_VOLUME'].mean()), inplace=True)\n",
    "test['ON_NET'].fillna((test['ON_NET'].mean()), inplace=True)\n",
    "test['ORANGE'].fillna((test['ORANGE'].mean()), inplace=True)\n",
    "test['TIGO'].fillna((test['TIGO'].mean()), inplace=True)\n",
    "test['FREQ_TOP_PACK'].fillna((test['FREQ_TOP_PACK'].mean()), inplace=True)"
   ]
  },
  {
   "cell_type": "code",
   "execution_count": 34,
   "metadata": {},
   "outputs": [
    {
     "data": {
      "text/html": [
       "<div>\n",
       "<style scoped>\n",
       "    .dataframe tbody tr th:only-of-type {\n",
       "        vertical-align: middle;\n",
       "    }\n",
       "\n",
       "    .dataframe tbody tr th {\n",
       "        vertical-align: top;\n",
       "    }\n",
       "\n",
       "    .dataframe thead th {\n",
       "        text-align: right;\n",
       "    }\n",
       "</style>\n",
       "<table border=\"1\" class=\"dataframe\">\n",
       "  <thead>\n",
       "    <tr style=\"text-align: right;\">\n",
       "      <th></th>\n",
       "      <th>user_id</th>\n",
       "      <th>TENURE</th>\n",
       "      <th>MONTANT</th>\n",
       "      <th>FREQUENCE_RECH</th>\n",
       "      <th>REVENUE</th>\n",
       "      <th>ARPU_SEGMENT</th>\n",
       "      <th>FREQUENCE</th>\n",
       "      <th>DATA_VOLUME</th>\n",
       "      <th>ON_NET</th>\n",
       "      <th>ORANGE</th>\n",
       "      <th>TIGO</th>\n",
       "      <th>REGULARITY</th>\n",
       "      <th>FREQ_TOP_PACK</th>\n",
       "    </tr>\n",
       "  </thead>\n",
       "  <tbody>\n",
       "    <tr>\n",
       "      <th>0</th>\n",
       "      <td>51fe4c3347db1f8571d18ac03f716c41acee30a4</td>\n",
       "      <td>I 18-21 month</td>\n",
       "      <td>2500.000000</td>\n",
       "      <td>5.00000</td>\n",
       "      <td>2500.000000</td>\n",
       "      <td>833.000000</td>\n",
       "      <td>5.00000</td>\n",
       "      <td>0.000000</td>\n",
       "      <td>64.000000</td>\n",
       "      <td>70.000000</td>\n",
       "      <td>22.95227</td>\n",
       "      <td>35</td>\n",
       "      <td>5.000000</td>\n",
       "    </tr>\n",
       "    <tr>\n",
       "      <th>1</th>\n",
       "      <td>5ad5d67c175bce107cc97b98c4e37dcc38aa7f3e</td>\n",
       "      <td>K &gt; 24 month</td>\n",
       "      <td>5506.547759</td>\n",
       "      <td>11.48394</td>\n",
       "      <td>5486.233417</td>\n",
       "      <td>1828.750281</td>\n",
       "      <td>13.93967</td>\n",
       "      <td>3358.421151</td>\n",
       "      <td>281.210613</td>\n",
       "      <td>94.611639</td>\n",
       "      <td>22.95227</td>\n",
       "      <td>2</td>\n",
       "      <td>9.234326</td>\n",
       "    </tr>\n",
       "    <tr>\n",
       "      <th>2</th>\n",
       "      <td>5a4db591c953a8d8f373877fad37aaf4268899a1</td>\n",
       "      <td>K &gt; 24 month</td>\n",
       "      <td>5506.547759</td>\n",
       "      <td>11.48394</td>\n",
       "      <td>5486.233417</td>\n",
       "      <td>1828.750281</td>\n",
       "      <td>13.93967</td>\n",
       "      <td>0.000000</td>\n",
       "      <td>281.210613</td>\n",
       "      <td>94.611639</td>\n",
       "      <td>22.95227</td>\n",
       "      <td>22</td>\n",
       "      <td>9.234326</td>\n",
       "    </tr>\n",
       "    <tr>\n",
       "      <th>3</th>\n",
       "      <td>8bf9b4d8880aeba1c9a0da48be78f12e629be37c</td>\n",
       "      <td>K &gt; 24 month</td>\n",
       "      <td>5506.547759</td>\n",
       "      <td>11.48394</td>\n",
       "      <td>5486.233417</td>\n",
       "      <td>1828.750281</td>\n",
       "      <td>13.93967</td>\n",
       "      <td>3358.421151</td>\n",
       "      <td>281.210613</td>\n",
       "      <td>94.611639</td>\n",
       "      <td>22.95227</td>\n",
       "      <td>6</td>\n",
       "      <td>9.234326</td>\n",
       "    </tr>\n",
       "    <tr>\n",
       "      <th>4</th>\n",
       "      <td>c7cdf2af01e9fa95bf498b68c122aa4b9a8d10df</td>\n",
       "      <td>K &gt; 24 month</td>\n",
       "      <td>5100.000000</td>\n",
       "      <td>7.00000</td>\n",
       "      <td>5637.000000</td>\n",
       "      <td>1879.000000</td>\n",
       "      <td>15.00000</td>\n",
       "      <td>7783.000000</td>\n",
       "      <td>30.000000</td>\n",
       "      <td>24.000000</td>\n",
       "      <td>0.00000</td>\n",
       "      <td>60</td>\n",
       "      <td>4.000000</td>\n",
       "    </tr>\n",
       "  </tbody>\n",
       "</table>\n",
       "</div>"
      ],
      "text/plain": [
       "                                    user_id         TENURE      MONTANT  \\\n",
       "0  51fe4c3347db1f8571d18ac03f716c41acee30a4  I 18-21 month  2500.000000   \n",
       "1  5ad5d67c175bce107cc97b98c4e37dcc38aa7f3e   K > 24 month  5506.547759   \n",
       "2  5a4db591c953a8d8f373877fad37aaf4268899a1   K > 24 month  5506.547759   \n",
       "3  8bf9b4d8880aeba1c9a0da48be78f12e629be37c   K > 24 month  5506.547759   \n",
       "4  c7cdf2af01e9fa95bf498b68c122aa4b9a8d10df   K > 24 month  5100.000000   \n",
       "\n",
       "   FREQUENCE_RECH      REVENUE  ARPU_SEGMENT  FREQUENCE  DATA_VOLUME  \\\n",
       "0         5.00000  2500.000000    833.000000    5.00000     0.000000   \n",
       "1        11.48394  5486.233417   1828.750281   13.93967  3358.421151   \n",
       "2        11.48394  5486.233417   1828.750281   13.93967     0.000000   \n",
       "3        11.48394  5486.233417   1828.750281   13.93967  3358.421151   \n",
       "4         7.00000  5637.000000   1879.000000   15.00000  7783.000000   \n",
       "\n",
       "       ON_NET     ORANGE      TIGO  REGULARITY  FREQ_TOP_PACK  \n",
       "0   64.000000  70.000000  22.95227          35       5.000000  \n",
       "1  281.210613  94.611639  22.95227           2       9.234326  \n",
       "2  281.210613  94.611639  22.95227          22       9.234326  \n",
       "3  281.210613  94.611639  22.95227           6       9.234326  \n",
       "4   30.000000  24.000000   0.00000          60       4.000000  "
      ]
     },
     "execution_count": 34,
     "metadata": {},
     "output_type": "execute_result"
    }
   ],
   "source": [
    "#Preview of modified test data\n",
    "\n",
    "test.head()"
   ]
  },
  {
   "cell_type": "code",
   "execution_count": 35,
   "metadata": {},
   "outputs": [
    {
     "data": {
      "text/plain": [
       "user_id           0\n",
       "TENURE            0\n",
       "MONTANT           0\n",
       "FREQUENCE_RECH    0\n",
       "REVENUE           0\n",
       "ARPU_SEGMENT      0\n",
       "FREQUENCE         0\n",
       "DATA_VOLUME       0\n",
       "ON_NET            0\n",
       "ORANGE            0\n",
       "TIGO              0\n",
       "REGULARITY        0\n",
       "FREQ_TOP_PACK     0\n",
       "dtype: int64"
      ]
     },
     "execution_count": 35,
     "metadata": {},
     "output_type": "execute_result"
    }
   ],
   "source": [
    "#Check of missing values in modified test set\n",
    "\n",
    "test.isnull().sum()"
   ]
  },
  {
   "cell_type": "markdown",
   "metadata": {},
   "source": [
    "## Machine Learning"
   ]
  },
  {
   "cell_type": "code",
   "execution_count": 36,
   "metadata": {},
   "outputs": [
    {
     "name": "stdout",
     "output_type": "stream",
     "text": [
      "(1077024, 12)\n",
      "(1077024,)\n",
      "(190063, 12)\n"
     ]
    }
   ],
   "source": [
    "dropcols = ['user_id', 'CHURN']\n",
    "y = train['CHURN']\n",
    "x = train.drop(columns=dropcols, axis=1)\n",
    "test = test.drop(columns=['user_id'], axis=1) #you will use this for predicting and submitting the resulting\n",
    "print(x.shape)\n",
    "print(y.shape)\n",
    "print(test.shape)"
   ]
  },
  {
   "cell_type": "markdown",
   "metadata": {},
   "source": [
    "# Preprocessing"
   ]
  },
  {
   "cell_type": "code",
   "execution_count": 37,
   "metadata": {},
   "outputs": [],
   "source": [
    "#df has both numerical and categorical columns\n",
    "#categorical columns\n",
    "categorical_cols = ['TENURE']\n",
    "\n",
    "numerical_cols = ['MONTANT', 'FREQUENCE_RECH', 'REVENUE', 'ARPU_SEGMENT',\n",
    "       'FREQUENCE', 'DATA_VOLUME', 'ON_NET', 'ORANGE', 'TIGO', 'REGULARITY', 'FREQ_TOP_PACK']\n",
    "\n",
    "\n",
    "encoder = LabelEncoder()\n",
    "\n",
    "# Define the transformers\n",
    "categorical_transformer = Pipeline(steps=[\n",
    "    ('ordinal', OrdinalEncoder())\n",
    "])\n",
    "\n",
    "numerical_transformer = Pipeline(steps=[\n",
    "    ('scaler', StandardScaler())\n",
    "])\n",
    "\n",
    "# Define the preprocessor\n",
    "preprocessor = ColumnTransformer(transformers=[\n",
    "    ('cat', categorical_transformer, categorical_cols),\n",
    "    ('num', numerical_transformer, numerical_cols)\n",
    "])"
   ]
  },
  {
   "cell_type": "code",
   "execution_count": 38,
   "metadata": {},
   "outputs": [],
   "source": [
    "#Fit and transform the training data using the preprocessor\n",
    "#Preprocessing training set\n",
    "X_train_transformed = preprocessor.fit_transform(x) \n",
    "\n",
    "#Transform the test data using the preprocessor\n",
    "test_data_transformed = preprocessor.transform(test) "
   ]
  },
  {
   "cell_type": "code",
   "execution_count": 39,
   "metadata": {},
   "outputs": [
    {
     "name": "stdout",
     "output_type": "stream",
     "text": [
      "Class distribution before balancing dataset:\n",
      "CHURN\n",
      "0    875031\n",
      "1    201993\n",
      "Name: count, dtype: int64\n"
     ]
    }
   ],
   "source": [
    "#Check on class distribution of target variable before balancing\n",
    "\n",
    "print(f'Class distribution before balancing dataset:')\n",
    "print(y.value_counts())"
   ]
  },
  {
   "cell_type": "code",
   "execution_count": 40,
   "metadata": {},
   "outputs": [
    {
     "data": {
      "text/plain": [
       "Index(['TENURE', 'MONTANT', 'FREQUENCE_RECH', 'REVENUE', 'ARPU_SEGMENT',\n",
       "       'FREQUENCE', 'DATA_VOLUME', 'ON_NET', 'ORANGE', 'TIGO', 'REGULARITY',\n",
       "       'FREQ_TOP_PACK'],\n",
       "      dtype='object')"
      ]
     },
     "execution_count": 40,
     "metadata": {},
     "output_type": "execute_result"
    }
   ],
   "source": [
    "x.columns"
   ]
  },
  {
   "cell_type": "code",
   "execution_count": 41,
   "metadata": {},
   "outputs": [],
   "source": [
    "# Create DataFrames for the transformed datas\n",
    "X_train_t = pd.DataFrame(X_train_transformed )\n",
    "test_t = pd.DataFrame(test_data_transformed)\n",
    "\n",
    "# Define the column names\n",
    "numerical_features = ['MONTANT', 'FREQUENCE_RECH', 'REVENUE', 'ARPU_SEGMENT',\n",
    "       'FREQUENCE', 'DATA_VOLUME', 'ON_NET', 'ORANGE', 'TIGO', 'REGULARITY', 'FREQ_TOP_PACK']\n",
    "\n",
    "categorical_features = ['TENURE']\n",
    "\n",
    "# Add the column names to the DataFrame if available\n",
    "if hasattr(preprocessor.named_transformers_['cat']['ordinal'], 'get_feature_names_out'):\n",
    "    # Get the one-hot encoded column names\n",
    "    cat_columns = preprocessor.named_transformers_['cat']['ordinal'].get_feature_names_out(categorical_features)\n",
    "    # Combine the categorical and numerical column names\n",
    "\n",
    "    all_columns = list(cat_columns) + numerical_features \n",
    "    X_train_t.columns = all_columns\n",
    "    test_t.columns = all_columns"
   ]
  },
  {
   "cell_type": "code",
   "execution_count": 42,
   "metadata": {},
   "outputs": [
    {
     "name": "stdout",
     "output_type": "stream",
     "text": [
      "Class distribution after balancing dataset: \n",
      " CHURN\n",
      "0    875031\n",
      "1    875031\n",
      "Name: count, dtype: int64\n"
     ]
    }
   ],
   "source": [
    "#Use of SMOTE to generate synthetic values for the minority class\n",
    "\n",
    "smote = SMOTE(random_state=40)\n",
    "X_train_resampled , y_train_resampled = smote.fit_resample(X_train_t, y)\n",
    "\n",
    "print(f'Class distribution after balancing dataset: \\n {y_train_resampled.value_counts()}')"
   ]
  },
  {
   "cell_type": "code",
   "execution_count": 44,
   "metadata": {},
   "outputs": [],
   "source": [
    "#Split training data into train and' test split"
   ]
  },
  {
   "cell_type": "code",
   "execution_count": null,
   "metadata": {},
   "outputs": [],
   "source": [
    " "
   ]
  }
 ],
 "metadata": {
  "kernelspec": {
   "display_name": "Python 3",
   "language": "python",
   "name": "python3"
  },
  "language_info": {
   "codemirror_mode": {
    "name": "ipython",
    "version": 3
   },
   "file_extension": ".py",
   "mimetype": "text/x-python",
   "name": "python",
   "nbconvert_exporter": "python",
   "pygments_lexer": "ipython3",
   "version": "3.11.5"
  }
 },
 "nbformat": 4,
 "nbformat_minor": 4
}
